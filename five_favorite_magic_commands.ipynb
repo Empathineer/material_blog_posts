{
 "cells": [
  {
   "cell_type": "markdown",
   "metadata": {},
   "source": [
    "# My 5 favorite Magic Commands for Jupyter Notebooks\n",
    "This notebook belongs to [this blog post](https://medium.com/@timoboehm/my-5-favorite-magic-commands-for-jupyter-notebooks-2bf0c5ae4bb8) on Medium."
   ]
  },
  {
   "cell_type": "code",
   "execution_count": 1,
   "metadata": {},
   "outputs": [],
   "source": [
    "import numpy as np\n",
    "from numpy.random import randint"
   ]
  },
  {
   "cell_type": "markdown",
   "metadata": {},
   "source": [
    "## %time, %timeit and %%time\n",
    "To show the difference between the different versions, I define a function that simulates one million dice throws and returns the results as a ```np.array```."
   ]
  },
  {
   "cell_type": "code",
   "execution_count": 2,
   "metadata": {},
   "outputs": [],
   "source": [
    "def one_million_dice():\n",
    "    return randint(low=1, high=7, size=1000000)"
   ]
  },
  {
   "cell_type": "markdown",
   "metadata": {},
   "source": [
    "First ```%time```. This magic command returns the so-called wall time for each line. Wall time is the time that actually passed, which is important to know if you calculate something in parallel."
   ]
  },
  {
   "cell_type": "code",
   "execution_count": 3,
   "metadata": {},
   "outputs": [
    {
     "name": "stdout",
     "output_type": "stream",
     "text": [
      "Wall time: 20.6 ms\n",
      "Wall time: 3.01 ms\n",
      "\n",
      "Over one million throws, the mean is 3.5\n"
     ]
    }
   ],
   "source": [
    "%time throws = one_million_dice()\n",
    "%time mean = np.mean(throws)\n",
    "print(f\"\\nOver one million throws, the mean is {mean:.{4}}\")"
   ]
  },
  {
   "cell_type": "markdown",
   "metadata": {},
   "source": [
    "```%timeit``` works slightly different. Whereas ```%time``` logs the time needed, ```%timeit``` runs the command several times to provide a more accurate estimate."
   ]
  },
  {
   "cell_type": "code",
   "execution_count": 4,
   "metadata": {},
   "outputs": [
    {
     "name": "stdout",
     "output_type": "stream",
     "text": [
      "10 loops, best of 3: 22.2 ms per loop\n",
      "100 loops, best of 3: 2.86 ms per loop\n",
      "\n",
      "Over one million throws, the mean is 3.5\n"
     ]
    }
   ],
   "source": [
    "%timeit throws = one_million_dice()\n",
    "%timeit mean = np.mean(throws)\n",
    "print(f\"\\nOver one million throws, the mean is {mean:.{4}}\")"
   ]
  },
  {
   "cell_type": "markdown",
   "metadata": {},
   "source": [
    "And finally, ```%%time```. As you can see, this magic command is put at the top of a cell and returns only one result at the end. That is because ```%``` indicates __line magic__ and ```%%``` indicates __cell magic__."
   ]
  },
  {
   "cell_type": "code",
   "execution_count": 5,
   "metadata": {},
   "outputs": [
    {
     "name": "stdout",
     "output_type": "stream",
     "text": [
      "\n",
      "Over one million throws, the mean is 3.499\n",
      "Wall time: 36.6 ms\n"
     ]
    }
   ],
   "source": [
    "%%time\n",
    "throws = one_million_dice()\n",
    "mean = np.mean(throws)\n",
    "print(f\"\\nOver one million throws, the mean is {mean:.{4}}\")"
   ]
  },
  {
   "cell_type": "markdown",
   "metadata": {},
   "source": [
    "## %matplotlib"
   ]
  },
  {
   "cell_type": "markdown",
   "metadata": {},
   "source": [
    "To show you how this magic command works, let's try to look at a scatter plot of one thousand randomly chosen values for x and y."
   ]
  },
  {
   "cell_type": "code",
   "execution_count": 6,
   "metadata": {},
   "outputs": [],
   "source": [
    "import matplotlib.pyplot as plt"
   ]
  },
  {
   "cell_type": "code",
   "execution_count": 7,
   "metadata": {},
   "outputs": [],
   "source": [
    "x = randint(low=1, high=1000, size=100)\n",
    "y = randint(low=1, high=1000, size=100)\n",
    "\n",
    "plt.scatter(x, y)\n",
    "plt.show()"
   ]
  },
  {
   "cell_type": "markdown",
   "metadata": {},
   "source": [
    "As you can see, you see nothing. Let's add a little bit of magic to change that."
   ]
  },
  {
   "cell_type": "code",
   "execution_count": 8,
   "metadata": {},
   "outputs": [
    {
     "data": {
      "image/png": "[encoded data removed]",
      "text/plain": [
       "<Figure size 432x288 with 1 Axes>"
      ]
     },
     "metadata": {},
     "output_type": "display_data"
    }
   ],
   "source": [
    "%matplotlib inline\n",
    "plt.scatter(x, y)\n",
    "plt.show()"
   ]
  },
  {
   "cell_type": "markdown",
   "metadata": {},
   "source": [
    "## %load_ext\n",
    "Since I cannot manually change a script while you are looking at this notebook, please refer to the code snippet on how to use it in your projects."
   ]
  },
  {
   "cell_type": "markdown",
   "metadata": {},
   "source": [
    "## %system\n",
    "```%system``` is the same magic command as ```%sx``` but easier to understand for the uninitiated. It allows you access to the shell. You can also use the shorthand ```!!``` instead."
   ]
  },
  {
   "cell_type": "code",
   "execution_count": 9,
   "metadata": {},
   "outputs": [
    {
     "data": {
      "text/plain": [
       "['The current date is: 17/08/2018 ', 'Enter the new date: (dd-mm-yy) ']"
      ]
     },
     "execution_count": 9,
     "metadata": {},
     "output_type": "execute_result"
    }
   ],
   "source": [
    "%system date"
   ]
  },
  {
   "cell_type": "code",
   "execution_count": 10,
   "metadata": {},
   "outputs": [
    {
     "data": {
      "text/plain": [
       "['The current date is: 17/08/2018 ', 'Enter the new date: (dd-mm-yy) ']"
      ]
     },
     "execution_count": 10,
     "metadata": {},
     "output_type": "execute_result"
    }
   ],
   "source": [
    "%sx date"
   ]
  },
  {
   "cell_type": "code",
   "execution_count": 11,
   "metadata": {},
   "outputs": [
    {
     "data": {
      "text/plain": [
       "['The current date is: 17/08/2018 ', 'Enter the new date: (dd-mm-yy) ']"
      ]
     },
     "execution_count": 11,
     "metadata": {},
     "output_type": "execute_result"
    }
   ],
   "source": [
    "!!date"
   ]
  },
  {
   "cell_type": "markdown",
   "metadata": {},
   "source": [
    "## %who_ls\n",
    "```%who_ls``` gives you a list with all the variables that are in use right now."
   ]
  },
  {
   "cell_type": "code",
   "execution_count": 12,
   "metadata": {},
   "outputs": [
    {
     "data": {
      "text/plain": [
       "['mean', 'np', 'one_million_dice', 'plt', 'randint', 'throws', 'x', 'y']"
      ]
     },
     "execution_count": 12,
     "metadata": {},
     "output_type": "execute_result"
    }
   ],
   "source": [
    "%who_ls"
   ]
  },
  {
   "cell_type": "markdown",
   "metadata": {},
   "source": [
    "A neat feature is that you can define what type of variables you want to have in your list."
   ]
  },
  {
   "cell_type": "code",
   "execution_count": 13,
   "metadata": {},
   "outputs": [
    {
     "data": {
      "text/plain": [
       "['one_million_dice']"
      ]
     },
     "execution_count": 13,
     "metadata": {},
     "output_type": "execute_result"
    }
   ],
   "source": [
    "%who_ls function"
   ]
  }
 ],
 "metadata": {
  "kernelspec": {
   "display_name": "Python 3",
   "language": "python",
   "name": "python3"
  },
  "language_info": {
   "codemirror_mode": {
    "name": "ipython",
    "version": 3
   },
   "file_extension": ".py",
   "mimetype": "text/x-python",
   "name": "python",
   "nbconvert_exporter": "python",
   "pygments_lexer": "ipython3",
   "version": "3.6.2"
  }
 },
 "nbformat": 4,
 "nbformat_minor": 1
}
